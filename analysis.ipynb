{
 "cells": [
  {
   "cell_type": "markdown",
   "metadata": {},
   "source": [
    "# Habit Analysis - Direct SQLite Connection"
   ]
  },
  {
   "cell_type": "code",
   "execution_count": null,
   "metadata": {},
   "outputs": [],
   "source": [
    "import pandas as pd\n",
    "import sqlite3\n",
    "import plotly.graph_objects as go\n",
    "import plotly.express as px\n",
    "from datetime import datetime, timedelta"
   ]
  },
  {
   "cell_type": "code",
   "execution_count": null,
   "metadata": {},
   "outputs": [],
   "source": [
    "# Connect directly to SQLite database\n",
    "conn = sqlite3.connect('data/habits.db')\n",
    "\n",
    "# Load and join data\n",
    "df = pd.read_sql_query(\"\"\"\n",
    "SELECT \n",
    "    e.*,\n",
    "    h.name as habit_name,\n",
    "    h.unit,\n",
    "    h.user_id\n",
    "FROM entries e\n",
    "JOIN habits h ON e.habit_id = h.id\n",
    "ORDER BY e.date, e.timestamp\n",
    "\"\"\", conn)\n",
    "\n",
    "# Convert date and set index\n",
    "df['date'] = pd.to_datetime(df['date'])\n",
    "df = df.set_index('date')\n",
    "\n",
    "print(f\"Loaded {len(df)} entries\")\n",
    "df.head()"
   ]
  },
  {
   "cell_type": "code",
   "execution_count": null,
   "metadata": {},
   "outputs": [],
   "source": [
    "# Function to plot habits with different resolutions\n",
    "def plot_habit(habit_id=None, habit_name=None, plot_type='sum', resolution='D'):\n",
    "    \"\"\"\n",
    "    Plot habit data with different aggregations and resolutions\n",
    "    \n",
    "    Parameters:\n",
    "    - habit_id: ID of the habit (optional if habit_name provided)\n",
    "    - habit_name: Name of the habit (optional if habit_id provided)  \n",
    "    - plot_type: 'sum', 'count', or 'average'\n",
    "    - resolution: 'D' (daily), 'W-MON' (weekly), 'M' (monthly)\n",
    "    \"\"\"\n",
    "    # Get habit data\n",
    "    if habit_id:\n",
    "        habit_data = df[df['habit_id'] == habit_id].copy()\n",
    "        if habit_name is None and len(habit_data) > 0:\n",
    "            habit_name = habit_data.iloc[0]['habit_name']\n",
    "    else:\n",
    "        habit_data = df[df['habit_name'] == habit_name].copy()\n",
    "    \n",
    "    if len(habit_data) == 0:\n",
    "        print(f\"No data found\")\n",
    "        return\n",
    "    \n",
    "    # Aggregate based on resolution\n",
    "    grouped = habit_data['value'].resample(resolution)\n",
    "    \n",
    "    if plot_type == 'sum':\n",
    "        data = grouped.sum()\n",
    "        title_suffix = 'Total'\n",
    "    elif plot_type == 'count':\n",
    "        data = grouped.count()\n",
    "        title_suffix = 'Count'\n",
    "    else:  # average\n",
    "        data = grouped.sum() / grouped.count()\n",
    "        title_suffix = 'Average'\n",
    "    \n",
    "    # Create resolution label\n",
    "    res_label = {'D': 'Daily', 'W-MON': 'Weekly', 'M': 'Monthly'}.get(resolution, resolution)\n",
    "    \n",
    "    # Plot\n",
    "    fig = go.Figure()\n",
    "    fig.add_trace(go.Bar(x=data.index, y=data.values))\n",
    "    fig.update_layout(\n",
    "        title=f'{habit_name} - {res_label} {title_suffix}',\n",
    "        xaxis_title='Date',\n",
    "        yaxis_title=title_suffix\n",
    "    )\n",
    "    fig.show()\n",
    "    \n",
    "    return data"
   ]
  },
  {
   "cell_type": "code",
   "execution_count": null,
   "metadata": {},
   "outputs": [],
   "source": [
    "# Examples of using the function\n",
    "# Daily sum\n",
    "plot_habit(habit_name='Zercher Squats', plot_type='sum', resolution='D')\n",
    "\n",
    "# Weekly sum  \n",
    "plot_habit(habit_name='Zercher Squats', plot_type='sum', resolution='W-MON')\n",
    "\n",
    "# Weekly count\n",
    "plot_habit(habit_name='Zercher Squats', plot_type='count', resolution='W-MON')\n",
    "\n",
    "# Weekly average\n",
    "plot_habit(habit_name='Zercher Squats', plot_type='average', resolution='W-MON')"
   ]
  },
  {
   "cell_type": "code",
   "execution_count": null,
   "metadata": {},
   "outputs": [],
   "source": [
    "# Daily aggregations\n",
    "daily_sum = habit_data['value'].resample('D').sum()\n",
    "daily_count = habit_data['value'].resample('D').count()\n",
    "daily_avg = daily_sum / daily_count  # True average\n",
    "\n",
    "# Plot daily sum\n",
    "fig = go.Figure()\n",
    "fig.add_trace(go.Bar(x=daily_sum.index, y=daily_sum.values))\n",
    "fig.update_layout(title=f'{habit_name} - Daily Total')\n",
    "fig.show()"
   ]
  },
  {
   "cell_type": "markdown",
   "metadata": {},
   "source": [
    "## Weekly Analysis"
   ]
  },
  {
   "cell_type": "code",
   "execution_count": null,
   "metadata": {},
   "outputs": [],
   "source": [
    "# Weekly aggregations (calendar weeks starting Monday)\n",
    "weekly_sum = habit_data['value'].resample('W-MON').sum()\n",
    "weekly_count = habit_data['value'].resample('W-MON').count()\n",
    "weekly_avg = weekly_sum / weekly_count\n",
    "\n",
    "# Plot weekly sum\n",
    "fig = go.Figure()\n",
    "fig.add_trace(go.Bar(x=weekly_sum.index, y=weekly_sum.values))\n",
    "fig.update_layout(title=f'{habit_name} - Weekly Total')\n",
    "fig.show()"
   ]
  },
  {
   "cell_type": "markdown",
   "metadata": {},
   "source": [
    "## Monthly Analysis"
   ]
  },
  {
   "cell_type": "code",
   "execution_count": null,
   "metadata": {},
   "outputs": [],
   "source": [
    "# Monthly aggregations\n",
    "monthly_sum = habit_data.resample('M')['value'].sum()\n",
    "monthly_count = habit_data.resample('M')['value'].count()\n",
    "monthly_avg = habit_data.resample('M')['value'].mean()\n",
    "\n",
    "# Plot monthly trend\n",
    "fig = go.Figure()\n",
    "fig.add_trace(go.Scatter(x=monthly_sum.index, y=monthly_sum.values, mode='lines+markers', name='Monthly Total'))\n",
    "fig.update_layout(title=f'{habit_name} - Monthly Trend', xaxis_title='Month', yaxis_title='Total')\n",
    "fig.show()"
   ]
  },
  {
   "cell_type": "markdown",
   "metadata": {},
   "source": [
    "## All Habits Overview"
   ]
  },
  {
   "cell_type": "code",
   "execution_count": null,
   "metadata": {},
   "outputs": [],
   "source": [
    "# All habits comparison (last 30 days)\n",
    "recent = df[df.index >= (datetime.now() - timedelta(days=30))]\n",
    "habit_totals = recent.groupby('habit_name')['value'].agg(['sum', 'count', 'mean'])\n",
    "habit_totals = habit_totals.sort_values('sum', ascending=False)\n",
    "\n",
    "# Bar chart\n",
    "fig = px.bar(habit_totals, y='sum', title='Habit Totals (Last 30 Days)')\n",
    "fig.show()\n",
    "\n",
    "habit_totals"
   ]
  },
  {
   "cell_type": "markdown",
   "metadata": {},
   "source": [
    "## Custom Analysis Examples"
   ]
  },
  {
   "cell_type": "code",
   "execution_count": null,
   "metadata": {},
   "outputs": [],
   "source": [
    "# Rolling 7-day average\n",
    "habit_data['rolling_avg'] = habit_data['value'].rolling(window=7).mean()\n",
    "\n",
    "fig = go.Figure()\n",
    "fig.add_trace(go.Scatter(x=habit_data.index, y=habit_data['value'], mode='markers', name='Daily Values', opacity=0.5))\n",
    "fig.add_trace(go.Scatter(x=habit_data.index, y=habit_data['rolling_avg'], mode='lines', name='7-Day Average'))\n",
    "fig.update_layout(title=f'{habit_name} - 7-Day Rolling Average')\n",
    "fig.show()"
   ]
  },
  {
   "cell_type": "code",
   "execution_count": null,
   "metadata": {},
   "outputs": [],
   "source": [
    "# Day of week analysis\n",
    "habit_data['day_of_week'] = habit_data.index.day_name()\n",
    "dow_avg = habit_data.groupby('day_of_week')['value'].mean()\n",
    "\n",
    "# Reorder days\n",
    "days_order = ['Monday', 'Tuesday', 'Wednesday', 'Thursday', 'Friday', 'Saturday', 'Sunday']\n",
    "dow_avg = dow_avg.reindex(days_order)\n",
    "\n",
    "fig = px.bar(x=dow_avg.index, y=dow_avg.values, title=f'{habit_name} - Average by Day of Week')\n",
    "fig.show()"
   ]
  }
 ],
 "metadata": {
  "kernelspec": {
   "display_name": ".venv",
   "language": "python",
   "name": "python3"
  },
  "language_info": {
   "codemirror_mode": {
    "name": "ipython",
    "version": 3
   },
   "file_extension": ".py",
   "mimetype": "text/x-python",
   "name": "python",
   "nbconvert_exporter": "python",
   "pygments_lexer": "ipython3",
   "version": "3.12.3"
  }
 },
 "nbformat": 4,
 "nbformat_minor": 4
}
